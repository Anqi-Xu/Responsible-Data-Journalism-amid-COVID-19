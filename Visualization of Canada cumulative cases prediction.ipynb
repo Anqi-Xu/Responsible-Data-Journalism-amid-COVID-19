{
 "cells": [
  {
   "cell_type": "markdown",
   "metadata": {},
   "source": [
    "# Visualization of Canada cumulative cases prediction\n",
    "We will use the AR Model to predict the cumulative number of cases in Canada in the next 30 days on 7 consecutive dates."
   ]
  },
  {
   "cell_type": "code",
   "execution_count": 1,
   "metadata": {},
   "outputs": [],
   "source": [
    "from __future__ import print_function\n",
    "import numpy as np, pandas as pd\n",
    "from statsmodels.graphics.tsaplots import plot_acf, plot_pacf\n",
    "import statsmodels.api as sm\n",
    "import datetime\n",
    "from statsmodels.tsa.arima_model import ARIMA\n",
    "from statsmodels.tsa.api import ExponentialSmoothing, SimpleExpSmoothing, Holt\n",
    "import pmdarima as pm\n",
    "import plotly.graph_objects as go\n",
    "import scipy.stats as ss\n",
    "from pandas.tseries.offsets import Day\n",
    "from ipywidgets import interact, interactive, fixed, interact_manual\n",
    "import ipywidgets as widgets\n",
    "from IPython.display import display\n",
    "from IPython.core.interactiveshell import InteractiveShell\n",
    "InteractiveShell.ast_node_interactivity = 'all'"
   ]
  },
  {
   "cell_type": "code",
   "execution_count": 2,
   "metadata": {
    "scrolled": true
   },
   "outputs": [],
   "source": [
    "# functions\n",
    "def ar_model(cases):\n",
    "    model_ar=pm.auto_arima(cases,trace = False,error_action='ignore', start_p=0,start_q=0,max_p=4,max_q=0,\n",
    "                   stepwise=False,seasonal=False)\n",
    "    model_ar.fit(cases)\n",
    "    return model_ar\n",
    "\n",
    "def Hex_to_RGB(hex):\n",
    "    hex = hex.lstrip('#')\n",
    "    r = int(hex[0:2],16)\n",
    "    g = int(hex[2:4],16)\n",
    "    b = int(hex[4:6], 16)\n",
    "    rgb = 'rgba('+str(r)+','+str(g)+','+str(b)+','\n",
    "    return rgb\n",
    "\n",
    "#color_sequence=[\"rgba(255,0,0,\", \"rgba(0,255,0,\", \"rgba(0,0,255,\",\"rgba(255,165,0,\",\"rgba(255,255,0,\",\"rgba(0,127,255,\", \"rgba(139,0,255,\"]\n",
    "#红 绿 蓝 橙 黄 青 紫\n",
    "\n",
    "def plotting(start_fc1,opacity,Prediction_1,Prediction_2,Prediction_3,Prediction_4,Prediction_5,Prediction_6,Prediction_7):\n",
    "    cases = pd.read_csv(r'cases_timeseries_canada.csv', parse_dates=['date'], index_col='date')\n",
    "    cases=cases.drop([\"new_cases\"],axis=1)\n",
    "    cases_t=[]\n",
    "    cases_p=[]\n",
    "    index_of_fc=[]\n",
    "    \n",
    "    start_fc2=pd.to_datetime(start_fc1)+6*Day()\n",
    "    \n",
    "    for date in pd.date_range(pd.to_datetime(start_fc1)-Day(),pd.to_datetime(start_fc2)-Day()):\n",
    "        cases_t.append(cases[\"2020-01-25\":date])\n",
    "    for date in pd.date_range(start_fc1,start_fc2):\n",
    "        cases_p.append(cases[date:date+30*Day()])\n",
    "    for date in pd.date_range(start_fc1,start_fc2):\n",
    "        index_of_fc.append(pd.date_range(date,date+30*Day()))\n",
    "\n",
    "    cases_tt=cases[\"2020-03-29\":pd.to_datetime(start_fc2)-Day()]\n",
    "    index_of_fc_total= pd.date_range(start_fc1,pd.to_datetime(start_fc2)+30*Day())\n",
    "\n",
    "    n_periods={}\n",
    "    for i in range(len(cases_t)):\n",
    "        n_periods[i]=len(cases_p[i])\n",
    "    \n",
    "    model_ar={}\n",
    "    fc_ar={}\n",
    "    confint_ar={}\n",
    "    fc_series_ar={}\n",
    "    lower_series_ar={}\n",
    "    upper_series_ar={}\n",
    "    for i in range(len(cases_t)):\n",
    "        model_ar[i]=ar_model(cases_t[i])\n",
    "        fc_ar[i], confint_ar[i] = model_ar[i].predict(n_periods=n_periods[i], return_conf_int=True)\n",
    "        fc_series_ar[i] = pd.Series(fc_ar[i], index=index_of_fc[i])\n",
    "        lower_series_ar[i] = pd.Series(confint_ar[i][:, 0], index=index_of_fc[i])\n",
    "        upper_series_ar[i] = pd.Series(confint_ar[i][:, 1], index=index_of_fc[i])\n",
    "    \n",
    "    colors=[Hex_to_RGB(Prediction_1),Hex_to_RGB(Prediction_2),Hex_to_RGB(Prediction_3),Hex_to_RGB(Prediction_4),Hex_to_RGB(Prediction_5),Hex_to_RGB(Prediction_6),Hex_to_RGB(Prediction_7)]\n",
    "    fig=go.Figure()\n",
    "    for i in range(len(cases_t)):\n",
    "        fig.add_trace(go.Scatter(x=index_of_fc[i], y=fc_series_ar[i],mode='lines',line = dict(color=colors[i]+\"1)\"),name=\"Prediction \"+str(i+1)))\n",
    "        fig.add_trace(go.Scatter(x=index_of_fc[i], y=lower_series_ar[i],mode='lines',line = dict(color=colors[i]+str(opacity)+ \")\"),showlegend=False))\n",
    "        fig.add_trace(go.Scatter(x=index_of_fc[i], y=upper_series_ar[i],mode='lines',line = dict(color=colors[i]+str(opacity)+ \")\"),showlegend=False,fill=\"tonextx\")) \n",
    "    fig.add_trace(go.Scatter(x=cases_tt.index, y=cases_tt[\"cumulative_cases\"],mode='lines+markers',line = dict(color=\"black\"),name=\"Real Data for Cumulative Cases\"))\n",
    "    fig.update_layout(title=\"Cumulative Cases AR Model Prediction\",xaxis_title=\"Date\",yaxis_title=\"Cumulative Cases\",yaxis2=dict(title=\"RMSE\", overlaying='y', side=\"right\"),legend=dict(x=0,y=1,traceorder=\"normal\"))\n",
    "    fig.show()\n"
   ]
  },
  {
   "cell_type": "code",
   "execution_count": 3,
   "metadata": {
    "scrolled": true
   },
   "outputs": [],
   "source": [
    "w=interactive(plotting,start_fc1=widgets.DatePicker(\n",
    "    description='Pick a Date',\n",
    "    disabled=False,\n",
    "    value = datetime.date(2020,4,1)\n",
    "   \n",
    "),opacity=(0,1,0.1),\n",
    "Prediction_1=widgets.ColorPicker(\n",
    "    concise=False,\n",
    "    description='Prediction 1',\n",
    "    value='#ffa500',\n",
    "    disabled=False\n",
    "),\n",
    "Prediction_2=widgets.ColorPicker(\n",
    "    concise=False,\n",
    "    description='Prediction 2',\n",
    "    value='#ffa500',\n",
    "    disabled=False\n",
    "),\n",
    "Prediction_3=widgets.ColorPicker(\n",
    "    concise=False,\n",
    "    description='Prediction 3',\n",
    "    value='#ffa500',\n",
    "    disabled=False\n",
    "),\n",
    "Prediction_4=widgets.ColorPicker(\n",
    "    concise=False,\n",
    "    description='Prediction 4',\n",
    "    value='#ffa500',\n",
    "    disabled=False\n",
    "),\n",
    "Prediction_5=widgets.ColorPicker(\n",
    "    concise=False,\n",
    "    description='Prediction 5',\n",
    "    value='#ffa500',\n",
    "    disabled=False\n",
    "),\n",
    "Prediction_6=widgets.ColorPicker(\n",
    "    concise=False,\n",
    "    description='Prediction 6',\n",
    "    value='#ffa500',\n",
    "    disabled=False\n",
    "),\n",
    "Prediction_7=widgets.ColorPicker(\n",
    "    concise=False,\n",
    "    description='Prediction 7',\n",
    "    value='#ffa500',\n",
    "    disabled=False\n",
    ")         )"
   ]
  },
  {
   "cell_type": "markdown",
   "metadata": {},
   "source": [
    "## Three things you can do with the plot below:\n",
    "* You can decide the start date of the 7-day continuous predictions by the **date picker** below(the date must be between 2020-04-01 and 2021-05-01).\n",
    "* You can change the overall opacity of the confidence intervals of the 7 predictions by dragging the **slider** below.\n",
    "* You can change the color of the confidence intervals for each prediction through the **color pickers** below."
   ]
  },
  {
   "cell_type": "code",
   "execution_count": 4,
   "metadata": {},
   "outputs": [
    {
     "data": {
      "application/vnd.jupyter.widget-view+json": {
       "model_id": "b467b72971dc4a03b6ca882304540196",
       "version_major": 2,
       "version_minor": 0
      },
      "text/plain": [
       "interactive(children=(DatePicker(value=datetime.date(2020, 4, 1), description='Pick a Date'), FloatSlider(valu…"
      ]
     },
     "metadata": {},
     "output_type": "display_data"
    }
   ],
   "source": [
    "#show the widgets and plot\n",
    "display(w)"
   ]
  },
  {
   "cell_type": "code",
   "execution_count": 5,
   "metadata": {},
   "outputs": [
    {
     "name": "stdout",
     "output_type": "stream",
     "text": [
      "Python implementation: CPython\n",
      "Python version       : 3.7.6\n",
      "IPython version      : 7.12.0\n",
      "\n",
      "numpy      : 1.19.5\n",
      "statsmodels: 0.12.2\n",
      "matplotlib : 3.1.3\n",
      "pmdarima   : 1.8.2\n",
      "plotly     : 5.3.1\n",
      "scipy      : 1.5.4\n",
      "ipywidgets : 7.6.5\n",
      "IPython    : 7.12.0\n",
      "datetime   : 4.3\n",
      "watermark  : 2.2.0\n",
      "\n",
      "Compiler    : MSC v.1916 64 bit (AMD64)\n",
      "OS          : Windows\n",
      "Release     : 10\n",
      "Machine     : AMD64\n",
      "Processor   : Intel64 Family 6 Model 61 Stepping 4, GenuineIntel\n",
      "CPU cores   : 4\n",
      "Architecture: 64bit\n",
      "\n"
     ]
    }
   ],
   "source": [
    "%load_ext watermark\n",
    "%watermark -v -m -p numpy,statsmodels,matplotlib,pmdarima,plotly,scipy,ipywidgets,IPython,datetime,watermark "
   ]
  },
  {
   "cell_type": "code",
   "execution_count": null,
   "metadata": {},
   "outputs": [],
   "source": []
  }
 ],
 "metadata": {
  "kernelspec": {
   "display_name": "Python 3",
   "language": "python",
   "name": "python3"
  },
  "language_info": {
   "codemirror_mode": {
    "name": "ipython",
    "version": 3
   },
   "file_extension": ".py",
   "mimetype": "text/x-python",
   "name": "python",
   "nbconvert_exporter": "python",
   "pygments_lexer": "ipython3",
   "version": "3.7.6"
  }
 },
 "nbformat": 4,
 "nbformat_minor": 4
}

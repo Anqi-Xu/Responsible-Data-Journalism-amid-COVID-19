{
 "cells": [
  {
   "cell_type": "markdown",
   "metadata": {},
   "source": [
    " # Canada cumulative cases prediction\n",
    "- I have collected timeseries data for cumulative cases in Canada from 2020/1/25 to 2021/7/30.\n",
    "- In order to verify the accuracy of the prediction, I assume that today is June 30, 2021, and use different machine learning models to predict the cumulative number of cases in the next month (July)."
   ]
  },
  {
   "cell_type": "code",
   "execution_count": 1,
   "metadata": {},
   "outputs": [],
   "source": [
    "import warnings\n",
    "warnings.filterwarnings('ignore')\n",
    "import pandas as pd\n",
    "import matplotlib.pyplot as plt\n",
    "import seaborn as sns\n",
    "import numpy as np\n",
    "import datetime as dt\n",
    "from datetime import timedelta\n",
    "from sklearn.model_selection import GridSearchCV\n",
    "from sklearn.preprocessing import StandardScaler\n",
    "from sklearn.cluster import KMeans\n",
    "from sklearn.metrics import silhouette_score,silhouette_samples\n",
    "from sklearn.linear_model import LinearRegression,Ridge,Lasso\n",
    "from sklearn.svm import SVR\n",
    "from sklearn.metrics import mean_squared_error,r2_score\n",
    "import statsmodels.api as sm\n",
    "from statsmodels.tsa.api import Holt,SimpleExpSmoothing,ExponentialSmoothing\n",
    "import plotly.express as px\n",
    "import plotly.graph_objects as go\n",
    "from plotly.subplots import make_subplots\n",
    "from sklearn.preprocessing import PolynomialFeatures"
   ]
  },
  {
   "cell_type": "code",
   "execution_count": 2,
   "metadata": {},
   "outputs": [
    {
     "ename": "FileNotFoundError",
     "evalue": "[Errno 2] No such file or directory: 'cases_timeseries\\\\cases_timeseries_canada.csv'",
     "output_type": "error",
     "traceback": [
      "\u001b[0;31m---------------------------------------------------------------------------\u001b[0m",
      "\u001b[0;31mFileNotFoundError\u001b[0m                         Traceback (most recent call last)",
      "Input \u001b[0;32mIn [2]\u001b[0m, in \u001b[0;36m<cell line: 2>\u001b[0;34m()\u001b[0m\n\u001b[1;32m      1\u001b[0m \u001b[38;5;66;03m#load data\u001b[39;00m\n\u001b[0;32m----> 2\u001b[0m cases_canada\u001b[38;5;241m=\u001b[39m\u001b[43mpd\u001b[49m\u001b[38;5;241;43m.\u001b[39;49m\u001b[43mread_csv\u001b[49m\u001b[43m(\u001b[49m\u001b[38;5;124;43mr\u001b[39;49m\u001b[38;5;124;43m\"\u001b[39;49m\u001b[38;5;124;43mcases_timeseries\u001b[39;49m\u001b[38;5;124;43m\\\u001b[39;49m\u001b[38;5;124;43mcases_timeseries_canada.csv\u001b[39;49m\u001b[38;5;124;43m\"\u001b[39;49m\u001b[43m)\u001b[49m\n\u001b[1;32m      3\u001b[0m cases_canada1\u001b[38;5;241m=\u001b[39mcases_canada[\u001b[38;5;241m0\u001b[39m:\u001b[38;5;241m-\u001b[39m\u001b[38;5;241m30\u001b[39m]\n\u001b[1;32m      4\u001b[0m cases_canada1\u001b[38;5;241m=\u001b[39mcases_canada1\u001b[38;5;241m.\u001b[39mdrop([\u001b[38;5;124m\"\u001b[39m\u001b[38;5;124mnew_cases\u001b[39m\u001b[38;5;124m\"\u001b[39m],axis\u001b[38;5;241m=\u001b[39m\u001b[38;5;241m1\u001b[39m)\n",
      "File \u001b[0;32m~/Desktop/venv/lib/python3.10/site-packages/pandas/util/_decorators.py:311\u001b[0m, in \u001b[0;36mdeprecate_nonkeyword_arguments.<locals>.decorate.<locals>.wrapper\u001b[0;34m(*args, **kwargs)\u001b[0m\n\u001b[1;32m    305\u001b[0m \u001b[38;5;28;01mif\u001b[39;00m \u001b[38;5;28mlen\u001b[39m(args) \u001b[38;5;241m>\u001b[39m num_allow_args:\n\u001b[1;32m    306\u001b[0m     warnings\u001b[38;5;241m.\u001b[39mwarn(\n\u001b[1;32m    307\u001b[0m         msg\u001b[38;5;241m.\u001b[39mformat(arguments\u001b[38;5;241m=\u001b[39marguments),\n\u001b[1;32m    308\u001b[0m         \u001b[38;5;167;01mFutureWarning\u001b[39;00m,\n\u001b[1;32m    309\u001b[0m         stacklevel\u001b[38;5;241m=\u001b[39mstacklevel,\n\u001b[1;32m    310\u001b[0m     )\n\u001b[0;32m--> 311\u001b[0m \u001b[38;5;28;01mreturn\u001b[39;00m \u001b[43mfunc\u001b[49m\u001b[43m(\u001b[49m\u001b[38;5;241;43m*\u001b[39;49m\u001b[43margs\u001b[49m\u001b[43m,\u001b[49m\u001b[43m \u001b[49m\u001b[38;5;241;43m*\u001b[39;49m\u001b[38;5;241;43m*\u001b[39;49m\u001b[43mkwargs\u001b[49m\u001b[43m)\u001b[49m\n",
      "File \u001b[0;32m~/Desktop/venv/lib/python3.10/site-packages/pandas/io/parsers/readers.py:680\u001b[0m, in \u001b[0;36mread_csv\u001b[0;34m(filepath_or_buffer, sep, delimiter, header, names, index_col, usecols, squeeze, prefix, mangle_dupe_cols, dtype, engine, converters, true_values, false_values, skipinitialspace, skiprows, skipfooter, nrows, na_values, keep_default_na, na_filter, verbose, skip_blank_lines, parse_dates, infer_datetime_format, keep_date_col, date_parser, dayfirst, cache_dates, iterator, chunksize, compression, thousands, decimal, lineterminator, quotechar, quoting, doublequote, escapechar, comment, encoding, encoding_errors, dialect, error_bad_lines, warn_bad_lines, on_bad_lines, delim_whitespace, low_memory, memory_map, float_precision, storage_options)\u001b[0m\n\u001b[1;32m    665\u001b[0m kwds_defaults \u001b[38;5;241m=\u001b[39m _refine_defaults_read(\n\u001b[1;32m    666\u001b[0m     dialect,\n\u001b[1;32m    667\u001b[0m     delimiter,\n\u001b[0;32m   (...)\u001b[0m\n\u001b[1;32m    676\u001b[0m     defaults\u001b[38;5;241m=\u001b[39m{\u001b[38;5;124m\"\u001b[39m\u001b[38;5;124mdelimiter\u001b[39m\u001b[38;5;124m\"\u001b[39m: \u001b[38;5;124m\"\u001b[39m\u001b[38;5;124m,\u001b[39m\u001b[38;5;124m\"\u001b[39m},\n\u001b[1;32m    677\u001b[0m )\n\u001b[1;32m    678\u001b[0m kwds\u001b[38;5;241m.\u001b[39mupdate(kwds_defaults)\n\u001b[0;32m--> 680\u001b[0m \u001b[38;5;28;01mreturn\u001b[39;00m \u001b[43m_read\u001b[49m\u001b[43m(\u001b[49m\u001b[43mfilepath_or_buffer\u001b[49m\u001b[43m,\u001b[49m\u001b[43m \u001b[49m\u001b[43mkwds\u001b[49m\u001b[43m)\u001b[49m\n",
      "File \u001b[0;32m~/Desktop/venv/lib/python3.10/site-packages/pandas/io/parsers/readers.py:575\u001b[0m, in \u001b[0;36m_read\u001b[0;34m(filepath_or_buffer, kwds)\u001b[0m\n\u001b[1;32m    572\u001b[0m _validate_names(kwds\u001b[38;5;241m.\u001b[39mget(\u001b[38;5;124m\"\u001b[39m\u001b[38;5;124mnames\u001b[39m\u001b[38;5;124m\"\u001b[39m, \u001b[38;5;28;01mNone\u001b[39;00m))\n\u001b[1;32m    574\u001b[0m \u001b[38;5;66;03m# Create the parser.\u001b[39;00m\n\u001b[0;32m--> 575\u001b[0m parser \u001b[38;5;241m=\u001b[39m \u001b[43mTextFileReader\u001b[49m\u001b[43m(\u001b[49m\u001b[43mfilepath_or_buffer\u001b[49m\u001b[43m,\u001b[49m\u001b[43m \u001b[49m\u001b[38;5;241;43m*\u001b[39;49m\u001b[38;5;241;43m*\u001b[39;49m\u001b[43mkwds\u001b[49m\u001b[43m)\u001b[49m\n\u001b[1;32m    577\u001b[0m \u001b[38;5;28;01mif\u001b[39;00m chunksize \u001b[38;5;129;01mor\u001b[39;00m iterator:\n\u001b[1;32m    578\u001b[0m     \u001b[38;5;28;01mreturn\u001b[39;00m parser\n",
      "File \u001b[0;32m~/Desktop/venv/lib/python3.10/site-packages/pandas/io/parsers/readers.py:934\u001b[0m, in \u001b[0;36mTextFileReader.__init__\u001b[0;34m(self, f, engine, **kwds)\u001b[0m\n\u001b[1;32m    931\u001b[0m     \u001b[38;5;28mself\u001b[39m\u001b[38;5;241m.\u001b[39moptions[\u001b[38;5;124m\"\u001b[39m\u001b[38;5;124mhas_index_names\u001b[39m\u001b[38;5;124m\"\u001b[39m] \u001b[38;5;241m=\u001b[39m kwds[\u001b[38;5;124m\"\u001b[39m\u001b[38;5;124mhas_index_names\u001b[39m\u001b[38;5;124m\"\u001b[39m]\n\u001b[1;32m    933\u001b[0m \u001b[38;5;28mself\u001b[39m\u001b[38;5;241m.\u001b[39mhandles: IOHandles \u001b[38;5;241m|\u001b[39m \u001b[38;5;28;01mNone\u001b[39;00m \u001b[38;5;241m=\u001b[39m \u001b[38;5;28;01mNone\u001b[39;00m\n\u001b[0;32m--> 934\u001b[0m \u001b[38;5;28mself\u001b[39m\u001b[38;5;241m.\u001b[39m_engine \u001b[38;5;241m=\u001b[39m \u001b[38;5;28;43mself\u001b[39;49m\u001b[38;5;241;43m.\u001b[39;49m\u001b[43m_make_engine\u001b[49m\u001b[43m(\u001b[49m\u001b[43mf\u001b[49m\u001b[43m,\u001b[49m\u001b[43m \u001b[49m\u001b[38;5;28;43mself\u001b[39;49m\u001b[38;5;241;43m.\u001b[39;49m\u001b[43mengine\u001b[49m\u001b[43m)\u001b[49m\n",
      "File \u001b[0;32m~/Desktop/venv/lib/python3.10/site-packages/pandas/io/parsers/readers.py:1218\u001b[0m, in \u001b[0;36mTextFileReader._make_engine\u001b[0;34m(self, f, engine)\u001b[0m\n\u001b[1;32m   1214\u001b[0m     mode \u001b[38;5;241m=\u001b[39m \u001b[38;5;124m\"\u001b[39m\u001b[38;5;124mrb\u001b[39m\u001b[38;5;124m\"\u001b[39m\n\u001b[1;32m   1215\u001b[0m \u001b[38;5;66;03m# error: No overload variant of \"get_handle\" matches argument types\u001b[39;00m\n\u001b[1;32m   1216\u001b[0m \u001b[38;5;66;03m# \"Union[str, PathLike[str], ReadCsvBuffer[bytes], ReadCsvBuffer[str]]\"\u001b[39;00m\n\u001b[1;32m   1217\u001b[0m \u001b[38;5;66;03m# , \"str\", \"bool\", \"Any\", \"Any\", \"Any\", \"Any\", \"Any\"\u001b[39;00m\n\u001b[0;32m-> 1218\u001b[0m \u001b[38;5;28mself\u001b[39m\u001b[38;5;241m.\u001b[39mhandles \u001b[38;5;241m=\u001b[39m \u001b[43mget_handle\u001b[49m\u001b[43m(\u001b[49m\u001b[43m  \u001b[49m\u001b[38;5;66;43;03m# type: ignore[call-overload]\u001b[39;49;00m\n\u001b[1;32m   1219\u001b[0m \u001b[43m    \u001b[49m\u001b[43mf\u001b[49m\u001b[43m,\u001b[49m\n\u001b[1;32m   1220\u001b[0m \u001b[43m    \u001b[49m\u001b[43mmode\u001b[49m\u001b[43m,\u001b[49m\n\u001b[1;32m   1221\u001b[0m \u001b[43m    \u001b[49m\u001b[43mencoding\u001b[49m\u001b[38;5;241;43m=\u001b[39;49m\u001b[38;5;28;43mself\u001b[39;49m\u001b[38;5;241;43m.\u001b[39;49m\u001b[43moptions\u001b[49m\u001b[38;5;241;43m.\u001b[39;49m\u001b[43mget\u001b[49m\u001b[43m(\u001b[49m\u001b[38;5;124;43m\"\u001b[39;49m\u001b[38;5;124;43mencoding\u001b[39;49m\u001b[38;5;124;43m\"\u001b[39;49m\u001b[43m,\u001b[49m\u001b[43m \u001b[49m\u001b[38;5;28;43;01mNone\u001b[39;49;00m\u001b[43m)\u001b[49m\u001b[43m,\u001b[49m\n\u001b[1;32m   1222\u001b[0m \u001b[43m    \u001b[49m\u001b[43mcompression\u001b[49m\u001b[38;5;241;43m=\u001b[39;49m\u001b[38;5;28;43mself\u001b[39;49m\u001b[38;5;241;43m.\u001b[39;49m\u001b[43moptions\u001b[49m\u001b[38;5;241;43m.\u001b[39;49m\u001b[43mget\u001b[49m\u001b[43m(\u001b[49m\u001b[38;5;124;43m\"\u001b[39;49m\u001b[38;5;124;43mcompression\u001b[39;49m\u001b[38;5;124;43m\"\u001b[39;49m\u001b[43m,\u001b[49m\u001b[43m \u001b[49m\u001b[38;5;28;43;01mNone\u001b[39;49;00m\u001b[43m)\u001b[49m\u001b[43m,\u001b[49m\n\u001b[1;32m   1223\u001b[0m \u001b[43m    \u001b[49m\u001b[43mmemory_map\u001b[49m\u001b[38;5;241;43m=\u001b[39;49m\u001b[38;5;28;43mself\u001b[39;49m\u001b[38;5;241;43m.\u001b[39;49m\u001b[43moptions\u001b[49m\u001b[38;5;241;43m.\u001b[39;49m\u001b[43mget\u001b[49m\u001b[43m(\u001b[49m\u001b[38;5;124;43m\"\u001b[39;49m\u001b[38;5;124;43mmemory_map\u001b[39;49m\u001b[38;5;124;43m\"\u001b[39;49m\u001b[43m,\u001b[49m\u001b[43m \u001b[49m\u001b[38;5;28;43;01mFalse\u001b[39;49;00m\u001b[43m)\u001b[49m\u001b[43m,\u001b[49m\n\u001b[1;32m   1224\u001b[0m \u001b[43m    \u001b[49m\u001b[43mis_text\u001b[49m\u001b[38;5;241;43m=\u001b[39;49m\u001b[43mis_text\u001b[49m\u001b[43m,\u001b[49m\n\u001b[1;32m   1225\u001b[0m \u001b[43m    \u001b[49m\u001b[43merrors\u001b[49m\u001b[38;5;241;43m=\u001b[39;49m\u001b[38;5;28;43mself\u001b[39;49m\u001b[38;5;241;43m.\u001b[39;49m\u001b[43moptions\u001b[49m\u001b[38;5;241;43m.\u001b[39;49m\u001b[43mget\u001b[49m\u001b[43m(\u001b[49m\u001b[38;5;124;43m\"\u001b[39;49m\u001b[38;5;124;43mencoding_errors\u001b[39;49m\u001b[38;5;124;43m\"\u001b[39;49m\u001b[43m,\u001b[49m\u001b[43m \u001b[49m\u001b[38;5;124;43m\"\u001b[39;49m\u001b[38;5;124;43mstrict\u001b[39;49m\u001b[38;5;124;43m\"\u001b[39;49m\u001b[43m)\u001b[49m\u001b[43m,\u001b[49m\n\u001b[1;32m   1226\u001b[0m \u001b[43m    \u001b[49m\u001b[43mstorage_options\u001b[49m\u001b[38;5;241;43m=\u001b[39;49m\u001b[38;5;28;43mself\u001b[39;49m\u001b[38;5;241;43m.\u001b[39;49m\u001b[43moptions\u001b[49m\u001b[38;5;241;43m.\u001b[39;49m\u001b[43mget\u001b[49m\u001b[43m(\u001b[49m\u001b[38;5;124;43m\"\u001b[39;49m\u001b[38;5;124;43mstorage_options\u001b[39;49m\u001b[38;5;124;43m\"\u001b[39;49m\u001b[43m,\u001b[49m\u001b[43m \u001b[49m\u001b[38;5;28;43;01mNone\u001b[39;49;00m\u001b[43m)\u001b[49m\u001b[43m,\u001b[49m\n\u001b[1;32m   1227\u001b[0m \u001b[43m\u001b[49m\u001b[43m)\u001b[49m\n\u001b[1;32m   1228\u001b[0m \u001b[38;5;28;01massert\u001b[39;00m \u001b[38;5;28mself\u001b[39m\u001b[38;5;241m.\u001b[39mhandles \u001b[38;5;129;01mis\u001b[39;00m \u001b[38;5;129;01mnot\u001b[39;00m \u001b[38;5;28;01mNone\u001b[39;00m\n\u001b[1;32m   1229\u001b[0m f \u001b[38;5;241m=\u001b[39m \u001b[38;5;28mself\u001b[39m\u001b[38;5;241m.\u001b[39mhandles\u001b[38;5;241m.\u001b[39mhandle\n",
      "File \u001b[0;32m~/Desktop/venv/lib/python3.10/site-packages/pandas/io/common.py:786\u001b[0m, in \u001b[0;36mget_handle\u001b[0;34m(path_or_buf, mode, encoding, compression, memory_map, is_text, errors, storage_options)\u001b[0m\n\u001b[1;32m    781\u001b[0m \u001b[38;5;28;01melif\u001b[39;00m \u001b[38;5;28misinstance\u001b[39m(handle, \u001b[38;5;28mstr\u001b[39m):\n\u001b[1;32m    782\u001b[0m     \u001b[38;5;66;03m# Check whether the filename is to be opened in binary mode.\u001b[39;00m\n\u001b[1;32m    783\u001b[0m     \u001b[38;5;66;03m# Binary mode does not support 'encoding' and 'newline'.\u001b[39;00m\n\u001b[1;32m    784\u001b[0m     \u001b[38;5;28;01mif\u001b[39;00m ioargs\u001b[38;5;241m.\u001b[39mencoding \u001b[38;5;129;01mand\u001b[39;00m \u001b[38;5;124m\"\u001b[39m\u001b[38;5;124mb\u001b[39m\u001b[38;5;124m\"\u001b[39m \u001b[38;5;129;01mnot\u001b[39;00m \u001b[38;5;129;01min\u001b[39;00m ioargs\u001b[38;5;241m.\u001b[39mmode:\n\u001b[1;32m    785\u001b[0m         \u001b[38;5;66;03m# Encoding\u001b[39;00m\n\u001b[0;32m--> 786\u001b[0m         handle \u001b[38;5;241m=\u001b[39m \u001b[38;5;28;43mopen\u001b[39;49m\u001b[43m(\u001b[49m\n\u001b[1;32m    787\u001b[0m \u001b[43m            \u001b[49m\u001b[43mhandle\u001b[49m\u001b[43m,\u001b[49m\n\u001b[1;32m    788\u001b[0m \u001b[43m            \u001b[49m\u001b[43mioargs\u001b[49m\u001b[38;5;241;43m.\u001b[39;49m\u001b[43mmode\u001b[49m\u001b[43m,\u001b[49m\n\u001b[1;32m    789\u001b[0m \u001b[43m            \u001b[49m\u001b[43mencoding\u001b[49m\u001b[38;5;241;43m=\u001b[39;49m\u001b[43mioargs\u001b[49m\u001b[38;5;241;43m.\u001b[39;49m\u001b[43mencoding\u001b[49m\u001b[43m,\u001b[49m\n\u001b[1;32m    790\u001b[0m \u001b[43m            \u001b[49m\u001b[43merrors\u001b[49m\u001b[38;5;241;43m=\u001b[39;49m\u001b[43merrors\u001b[49m\u001b[43m,\u001b[49m\n\u001b[1;32m    791\u001b[0m \u001b[43m            \u001b[49m\u001b[43mnewline\u001b[49m\u001b[38;5;241;43m=\u001b[39;49m\u001b[38;5;124;43m\"\u001b[39;49m\u001b[38;5;124;43m\"\u001b[39;49m\u001b[43m,\u001b[49m\n\u001b[1;32m    792\u001b[0m \u001b[43m        \u001b[49m\u001b[43m)\u001b[49m\n\u001b[1;32m    793\u001b[0m     \u001b[38;5;28;01melse\u001b[39;00m:\n\u001b[1;32m    794\u001b[0m         \u001b[38;5;66;03m# Binary mode\u001b[39;00m\n\u001b[1;32m    795\u001b[0m         handle \u001b[38;5;241m=\u001b[39m \u001b[38;5;28mopen\u001b[39m(handle, ioargs\u001b[38;5;241m.\u001b[39mmode)\n",
      "\u001b[0;31mFileNotFoundError\u001b[0m: [Errno 2] No such file or directory: 'cases_timeseries\\\\cases_timeseries_canada.csv'"
     ]
    }
   ],
   "source": [
    "#load data\n",
    "cases_canada=pd.read_csv(r\"cases_timeseries\\cases_timeseries_canada.csv\")\n",
    "cases_canada1=cases_canada[0:-30]\n",
    "cases_canada1=cases_canada1.drop([\"new_cases\"],axis=1)"
   ]
  },
  {
   "cell_type": "code",
   "execution_count": null,
   "metadata": {},
   "outputs": [],
   "source": [
    "cases_canada1[\"Days Since\"]=cases_canada1.index-cases_canada1.index[0]"
   ]
  },
  {
   "cell_type": "code",
   "execution_count": null,
   "metadata": {
    "scrolled": true
   },
   "outputs": [],
   "source": [
    "cases_canada1.info()"
   ]
  },
  {
   "cell_type": "code",
   "execution_count": null,
   "metadata": {},
   "outputs": [],
   "source": [
    "#Linear Regression Model for Confirm Cases Prediction\n",
    "train_ml=cases_canada1.iloc[:int(cases_canada1.shape[0]*0.95)]\n",
    "valid_ml=cases_canada1.iloc[int(cases_canada1.shape[0]*0.95):]\n",
    "lin_reg=LinearRegression(normalize=True)\n",
    "model_scores=[]\n",
    "lin_reg.fit(np.array(train_ml[\"Days Since\"]).reshape(-1,1),np.array(train_ml[\"cumulative_cases\"]).reshape(-1,1))\n",
    "prediction_valid_linreg=lin_reg.predict(np.array(valid_ml[\"Days Since\"]).reshape(-1,1))\n",
    "model_scores.append(np.sqrt(mean_squared_error(valid_ml[\"cumulative_cases\"],prediction_valid_linreg)))\n",
    "print(\"Root Mean Square Error for Linear Regression: \",np.sqrt(mean_squared_error(valid_ml[\"cumulative_cases\"],prediction_valid_linreg)))"
   ]
  },
  {
   "cell_type": "code",
   "execution_count": null,
   "metadata": {},
   "outputs": [],
   "source": [
    "prediction_linreg=lin_reg.predict(np.array(cases_canada1[\"Days Since\"]).reshape(-1,1))\n",
    "linreg_output=[]\n",
    "for i in range(prediction_linreg.shape[0]):\n",
    "    linreg_output.append(prediction_linreg[i][0])"
   ]
  },
  {
   "cell_type": "code",
   "execution_count": null,
   "metadata": {},
   "outputs": [],
   "source": [
    "fig=go.Figure()\n",
    "fig.add_trace(go.Scatter(x=cases_canada1.index, y=cases_canada1[\"cumulative_cases\"],\n",
    "                    mode='lines+markers',name=\"Train Data for Cumulative Cases\"))\n",
    "fig.add_trace(go.Scatter(x=cases_canada1.index, y=linreg_output,\n",
    "                    mode='lines',name=\"Linear Regression Best Fit Line\",\n",
    "                    line=dict(color='black', dash='dot')))\n",
    "fig.update_layout(title=\"Cumulative Cases Linear Regression Prediction\",\n",
    "                 xaxis_title=\"Days since\",yaxis_title=\"Confirmed Cases\",legend=dict(x=0,y=1,traceorder=\"normal\"))\n",
    "fig.show()"
   ]
  },
  {
   "cell_type": "code",
   "execution_count": null,
   "metadata": {},
   "outputs": [],
   "source": [
    "#Polynomial Regression for Prediction of Cumulative Cases\n",
    "poly = PolynomialFeatures(degree = 8)\n",
    "train_poly=poly.fit_transform(np.array(train_ml[\"Days Since\"]).reshape(-1,1))\n",
    "valid_poly=poly.fit_transform(np.array(valid_ml[\"Days Since\"]).reshape(-1,1))\n",
    "y=train_ml[\"cumulative_cases\"]\n",
    "linreg=LinearRegression(normalize=True)\n",
    "linreg.fit(train_poly,y)\n",
    "prediction_poly=linreg.predict(valid_poly)\n",
    "rmse_poly=np.sqrt(mean_squared_error(valid_ml[\"cumulative_cases\"],prediction_poly))\n",
    "model_scores.append(rmse_poly)\n",
    "print(\"Root Mean Squared Error for Polynomial Regression: \",rmse_poly)"
   ]
  },
  {
   "cell_type": "code",
   "execution_count": null,
   "metadata": {},
   "outputs": [],
   "source": [
    "comp_data=poly.fit_transform(np.array(cases_canada1[\"Days Since\"]).reshape(-1,1))\n",
    "predictions_poly=linreg.predict(comp_data)\n",
    "plt.figure(figsize=(11,6))\n",
    "fig=go.Figure()\n",
    "fig.add_trace(go.Scatter(x=cases_canada1.index, y=cases_canada1[\"cumulative_cases\"],\n",
    "                    mode='lines+markers',name=\"Train Data for Cumulative cases\"))\n",
    "fig.add_trace(go.Scatter(x=cases_canada1.index, y=predictions_poly,\n",
    "                    mode='lines',name=\"Polynomial Regression Best Fit\",\n",
    "                    line=dict(color='black', dash='dot')))\n",
    "fig.update_layout(title=\"Cumulative cases Polynomial Regression Prediction\",\n",
    "                 xaxis_title=\"Days since\",yaxis_title=\"Cumulative_cases\",\n",
    "                 legend=dict(x=0,y=1,traceorder=\"normal\"))\n",
    "fig.show()"
   ]
  },
  {
   "cell_type": "code",
   "execution_count": null,
   "metadata": {},
   "outputs": [],
   "source": [
    "#SVR Model for Prediction of Cumulative Cases\n",
    "svm=SVR(C=1,degree=6,kernel='poly',epsilon=0.01)\n",
    "#Fitting model on the training data\n",
    "svm.fit(np.array(train_ml[\"Days Since\"]).reshape(-1,1),np.array(train_ml[\"cumulative_cases\"]).reshape(-1,1))\n",
    "prediction_valid_svm=svm.predict(np.array(valid_ml[\"Days Since\"]).reshape(-1,1))\n",
    "prediction_svm=svm.predict(np.array(cases_canada1[\"Days Since\"]).reshape(-1,1))\n",
    "model_scores.append(np.sqrt(mean_squared_error(valid_ml[\"cumulative_cases\"],prediction_valid_svm)))\n",
    "print(\"Root Mean Square Error for Support Vectore Machine: \",np.sqrt(mean_squared_error(valid_ml[\"cumulative_cases\"],prediction_valid_svm)))"
   ]
  },
  {
   "cell_type": "code",
   "execution_count": null,
   "metadata": {},
   "outputs": [],
   "source": [
    "plt.figure(figsize=(11,6))\n",
    "prediction_svm=svm.predict(np.array(cases_canada1[\"Days Since\"]).reshape(-1,1))\n",
    "fig=go.Figure()\n",
    "fig.add_trace(go.Scatter(x=cases_canada1.index, y=cases_canada1[\"cumulative_cases\"],\n",
    "                    mode='lines+markers',name=\"Train Data for Cumulative Cases\"))\n",
    "fig.add_trace(go.Scatter(x=cases_canada1.index, y=prediction_svm,\n",
    "                    mode='lines',name=\"Support Vector Machine Best fit Kernel\",\n",
    "                    line=dict(color='black', dash='dot')))\n",
    "fig.update_layout(title=\"Cumulative Cases Support Vectore Machine Regressor Prediction\",\n",
    "                 xaxis_title=\"Days since\",yaxis_title=\"Cumulative Cases\",legend=dict(x=0,y=1,traceorder=\"normal\"))\n",
    "fig.show()"
   ]
  },
  {
   "cell_type": "code",
   "execution_count": null,
   "metadata": {},
   "outputs": [],
   "source": [
    "#create prediction table for next month\n",
    "new_date=[]\n",
    "new_prediction_lr=[]\n",
    "new_prediction_svm=[]\n",
    "new_prediction_poly=[]\n",
    "for i in range(1,31):\n",
    "    new_prediction_lr.append(lin_reg.predict(np.array(cases_canada1[\"Days Since\"].max()+i).reshape(-1,1))[0][0])\n",
    "    new_prediction_svm.append(svm.predict(np.array(cases_canada1[\"Days Since\"].max()+i).reshape(-1,1))[0])\n",
    "    new_date_poly=poly.fit_transform(np.array(cases_canada1[\"Days Since\"].max()+i).reshape(-1,1))\n",
    "    new_prediction_poly.append(linreg.predict(new_date_poly)[0])\n",
    "new_date = pd.date_range(\"20210701\",\"20210730\")"
   ]
  },
  {
   "cell_type": "code",
   "execution_count": null,
   "metadata": {},
   "outputs": [],
   "source": [
    "pd.set_option('display.float_format', lambda x: '%.6f' % x)\n",
    "model_predictions=pd.DataFrame(zip(new_date,new_prediction_lr,new_prediction_poly,new_prediction_svm),\n",
    "                               columns=[\"Dates\",\"Linear Regression Prediction\",\"Polynonmial Regression Prediction\",\"SVM Prediction\"])\n",
    "model_predictions.head()"
   ]
  },
  {
   "cell_type": "code",
   "execution_count": null,
   "metadata": {},
   "outputs": [],
   "source": [
    "#Time Series Forecasting\n",
    "#Holt's Linear Model\n",
    "model_train=cases_canada1.iloc[:int(cases_canada1.shape[0]*0.95)]\n",
    "valid=cases_canada1.iloc[int(cases_canada1.shape[0]*0.95):]\n",
    "y_pred=valid.copy()\n",
    "holt=Holt(np.asarray(model_train[\"cumulative_cases\"])).fit(smoothing_level=0.4, smoothing_slope=0.4,optimized=False)\n",
    "y_pred[\"Holt\"]=holt.forecast(len(valid))\n",
    "model_scores.append(np.sqrt(mean_squared_error(y_pred[\"cumulative_cases\"],y_pred[\"Holt\"])))\n",
    "print(\"Root Mean Square Error Holt's Linear Model: \",np.sqrt(mean_squared_error(y_pred[\"cumulative_cases\"],y_pred[\"Holt\"])))\n",
    "holt_new_prediction=[]\n",
    "for i in range(1,31):\n",
    "    holt_new_prediction.append(holt.forecast((len(valid)+i))[-1])\n",
    "model_predictions[\"Holt's Linear Model Prediction\"]=holt_new_prediction\n",
    "model_predictions.head()"
   ]
  },
  {
   "cell_type": "code",
   "execution_count": null,
   "metadata": {},
   "outputs": [],
   "source": [
    "fig=go.Figure()\n",
    "fig.add_trace(go.Scatter(x=model_train.index, y=model_train[\"cumulative_cases\"],\n",
    "                    mode='lines+markers',name=\"Train Data for Cumulative Cases\"))\n",
    "fig.add_trace(go.Scatter(x=valid.index, y=valid[\"cumulative_cases\"],\n",
    "                    mode='lines+markers',name=\"Validation Data for Confirmed Cases\",))\n",
    "fig.add_trace(go.Scatter(x=valid.index, y=y_pred[\"Holt\"],\n",
    "                    mode='lines+markers',name=\"Prediction of Cumulative Cases\",))\n",
    "fig.update_layout(title=\"Cumulative Cases Holt's Linear Model Prediction\",\n",
    "                 xaxis_title=\"Days since\",yaxis_title=\"Cumulative Cases\",legend=dict(x=0,y=1,traceorder=\"normal\"))\n",
    "fig.show()"
   ]
  },
  {
   "cell_type": "code",
   "execution_count": null,
   "metadata": {},
   "outputs": [],
   "source": [
    "#Holt's Winter Model\n",
    "es=ExponentialSmoothing(np.asarray(model_train['cumulative_cases']),seasonal_periods=14,trend='add', seasonal='mul').fit()\n",
    "y_pred[\"Holt's Winter Model\"]=es.forecast(len(valid))\n",
    "model_scores.append(np.sqrt(mean_squared_error(y_pred[\"cumulative_cases\"],y_pred[\"Holt's Winter Model\"])))\n",
    "print(\"Root Mean Square Error for Holt's Winter Model: \",np.sqrt(mean_squared_error(y_pred[\"cumulative_cases\"],y_pred[\"Holt's Winter Model\"])))\n",
    "holt_winter_new_prediction=[]\n",
    "for i in range(1,31):\n",
    "    holt_winter_new_prediction.append(es.forecast((len(valid)+i))[-1])\n",
    "model_predictions[\"Holt's Winter Model Prediction\"]=holt_winter_new_prediction\n",
    "model_predictions.head()"
   ]
  },
  {
   "cell_type": "code",
   "execution_count": null,
   "metadata": {},
   "outputs": [],
   "source": [
    "fig=go.Figure()\n",
    "fig.add_trace(go.Scatter(x=model_train.index, y=model_train[\"cumulative_cases\"],\n",
    "                    mode='lines+markers',name=\"Train Data for Cumulative Cases\"))\n",
    "fig.add_trace(go.Scatter(x=valid.index, y=valid[\"cumulative_cases\"],\n",
    "                    mode='lines+markers',name=\"Validation Data for Cumulative Cases\",))\n",
    "fig.add_trace(go.Scatter(x=valid.index, y=y_pred[\"Holt\\'s Winter Model\"],\n",
    "                    mode='lines+markers',name=\"Prediction of Cumulative Cases\",))\n",
    "fig.update_layout(title=\"Cumulative Cases Holt's Winter Model Prediction\",\n",
    "                 xaxis_title=\"Date\",yaxis_title=\"Cumulative Cases\",legend=dict(x=0,y=1,traceorder=\"normal\"))\n",
    "fig.show()"
   ]
  },
  {
   "cell_type": "code",
   "execution_count": null,
   "metadata": {},
   "outputs": [],
   "source": [
    "#AR Model (using AUTO ARIMA)\n",
    "from pmdarima.arima import auto_arima\n",
    "model_ar= auto_arima(model_train[\"cumulative_cases\"],trace=True, error_action='ignore', start_p=0,start_q=0,max_p=4,max_q=0,\n",
    "                   suppress_warnings=True,stepwise=False,seasonal=False)\n",
    "model_ar.fit(model_train[\"cumulative_cases\"])"
   ]
  },
  {
   "cell_type": "code",
   "execution_count": null,
   "metadata": {},
   "outputs": [],
   "source": [
    "prediction_ar=model_ar.predict(len(valid))\n",
    "y_pred[\"AR Model Prediction\"]=prediction_ar\n",
    "model_scores.append(np.sqrt(mean_squared_error(y_pred[\"cumulative_cases\"],y_pred[\"AR Model Prediction\"])))\n",
    "print(\"Root Mean Square Error for AR Model: \",np.sqrt(mean_squared_error(y_pred[\"cumulative_cases\"],y_pred[\"AR Model Prediction\"])))"
   ]
  },
  {
   "cell_type": "code",
   "execution_count": null,
   "metadata": {},
   "outputs": [],
   "source": [
    "fig=go.Figure()\n",
    "fig.add_trace(go.Scatter(x=model_train.index, y=model_train[\"cumulative_cases\"],\n",
    "                    mode='lines+markers',name=\"Train Data for Cumulative Cases\"))\n",
    "fig.add_trace(go.Scatter(x=valid.index, y=valid[\"cumulative_cases\"],\n",
    "                    mode='lines+markers',name=\"Validation Data for Cumulative Cases\",))\n",
    "fig.add_trace(go.Scatter(x=valid.index, y=y_pred[\"AR Model Prediction\"],\n",
    "                    mode='lines+markers',name=\"Prediction of Cumulative Cases\",))\n",
    "fig.update_layout(title=\"Cumulative Cases AR Model Prediction\",\n",
    "                 xaxis_title=\"Days since\",yaxis_title=\"Cumulative Cases\",legend=dict(x=0,y=1,traceorder=\"normal\"))\n",
    "fig.show()"
   ]
  },
  {
   "cell_type": "code",
   "execution_count": null,
   "metadata": {},
   "outputs": [],
   "source": [
    "AR_model_new_prediction=[]\n",
    "for i in range(1,31):\n",
    "    AR_model_new_prediction.append(model_ar.predict(len(valid)+i)[-1])\n",
    "model_predictions[\"AR Model Prediction\"]=AR_model_new_prediction\n",
    "model_predictions.head()"
   ]
  },
  {
   "cell_type": "code",
   "execution_count": null,
   "metadata": {},
   "outputs": [],
   "source": [
    "#MA Model (using AUTO ARIMA)\n",
    "model_train=cases_canada1.iloc[:int(cases_canada1.shape[0]*0.95)]\n",
    "valid=cases_canada1.iloc[int(cases_canada1.shape[0]*0.95):]\n",
    "y_pred=valid.copy()\n",
    "model_ma= auto_arima(model_train[\"cumulative_cases\"],trace=True, error_action='ignore', start_p=0,start_q=0,max_p=0,max_q=2,\n",
    "                   suppress_warnings=True,stepwise=False,seasonal=False)\n",
    "model_ma.fit(model_train[\"cumulative_cases\"])"
   ]
  },
  {
   "cell_type": "code",
   "execution_count": null,
   "metadata": {},
   "outputs": [],
   "source": [
    "prediction_ma=model_ma.predict(len(valid))\n",
    "y_pred[\"MA Model Prediction\"]=prediction_ma\n",
    "model_scores.append(np.sqrt(mean_squared_error(valid[\"cumulative_cases\"],prediction_ma)))\n",
    "print(\"Root Mean Square Error for MA Model: \",np.sqrt(mean_squared_error(valid[\"cumulative_cases\"],prediction_ma)))\n",
    "MA_model_new_prediction=[]\n",
    "for i in range(1,31):\n",
    "    MA_model_new_prediction.append(model_ma.predict(len(valid)+i)[-1])\n",
    "model_predictions[\"MA Model Prediction\"]=MA_model_new_prediction\n",
    "model_predictions.head()"
   ]
  },
  {
   "cell_type": "code",
   "execution_count": null,
   "metadata": {
    "scrolled": true
   },
   "outputs": [],
   "source": [
    "fig=go.Figure()\n",
    "fig.add_trace(go.Scatter(x=model_train.index, y=model_train[\"cumulative_cases\"],\n",
    "                    mode='lines+markers',name=\"Train Data for Cumulative Cases\"))\n",
    "fig.add_trace(go.Scatter(x=valid.index, y=valid[\"cumulative_cases\"],\n",
    "                    mode='lines+markers',name=\"Validation Data for Cumulative Cases\",))\n",
    "fig.add_trace(go.Scatter(x=valid.index, y=y_pred[\"MA Model Prediction\"],\n",
    "                    mode='lines+markers',name=\"Prediction for Cumulative Cases\",))\n",
    "fig.update_layout(title=\"Cumulative Cases MA Model Prediction\",\n",
    "                 xaxis_title=\"Date\",yaxis_title=\"Cumulative Cases\",legend=dict(x=0,y=1,traceorder=\"normal\"))\n",
    "fig.show()"
   ]
  },
  {
   "cell_type": "code",
   "execution_count": null,
   "metadata": {},
   "outputs": [],
   "source": [
    "#ARIMA Model (using AUTOARIMA)\n",
    "model_train=cases_canada1.iloc[:int(cases_canada1.shape[0]*0.95)]\n",
    "valid=cases_canada1.iloc[int(cases_canada1.shape[0]*0.95):]\n",
    "y_pred=valid.copy()\n",
    "model_arima= auto_arima(model_train[\"cumulative_cases\"],trace=True, error_action='ignore', start_p=1,start_q=1,max_p=3,max_q=3,\n",
    "                   suppress_warnings=True,stepwise=False,seasonal=False)\n",
    "model_arima.fit(model_train[\"cumulative_cases\"])\n",
    "prediction_arima=model_arima.predict(len(valid))\n",
    "y_pred[\"ARIMA Model Prediction\"]=prediction_arima\n",
    "model_scores.append(np.sqrt(mean_squared_error(valid[\"cumulative_cases\"],prediction_arima)))\n",
    "print(\"Root Mean Square Error for ARIMA Model: \",np.sqrt(mean_squared_error(valid[\"cumulative_cases\"],prediction_arima)))"
   ]
  },
  {
   "cell_type": "code",
   "execution_count": null,
   "metadata": {},
   "outputs": [],
   "source": [
    "fig=go.Figure()\n",
    "fig.add_trace(go.Scatter(x=model_train.index, y=model_train[\"cumulative_cases\"],\n",
    "                    mode='lines+markers',name=\"Train Data for Cumulative Cases\"))\n",
    "fig.add_trace(go.Scatter(x=valid.index, y=valid[\"cumulative_cases\"],\n",
    "                    mode='lines+markers',name=\"Validation Data for Cumulative Cases\",))\n",
    "fig.add_trace(go.Scatter(x=valid.index, y=y_pred[\"ARIMA Model Prediction\"],\n",
    "                    mode='lines+markers',name=\"Prediction for Cumulative Cases\",))\n",
    "fig.update_layout(title=\"Cumulative Cases ARIMA Model Prediction\",\n",
    "                 xaxis_title=\"Date\",yaxis_title=\"Cumulative Cases\",legend=dict(x=0,y=1,traceorder=\"normal\"))\n",
    "fig.show()"
   ]
  },
  {
   "cell_type": "code",
   "execution_count": null,
   "metadata": {},
   "outputs": [],
   "source": [
    "# SARIMA Model (using AUTO ARIMA)\n",
    "model_sarima= auto_arima(model_train[\"cumulative_cases\"],trace=True, error_action='ignore',start_p=0,start_q=0,max_p=2,max_q=2,m=7,suppress_warnings=True,stepwise=True,seasonal=True)\n",
    "model_sarima.fit(model_train[\"cumulative_cases\"])\n",
    "prediction_sarima=model_sarima.predict(len(valid))\n",
    "y_pred[\"SARIMA Model Prediction\"]=prediction_sarima\n",
    "model_scores.append(np.sqrt(mean_squared_error(y_pred[\"cumulative_cases\"],y_pred[\"SARIMA Model Prediction\"])))\n",
    "print(\"Root Mean Square Error for SARIMA Model: \",np.sqrt(mean_squared_error(y_pred[\"cumulative_cases\"],y_pred[\"SARIMA Model Prediction\"])))"
   ]
  },
  {
   "cell_type": "code",
   "execution_count": null,
   "metadata": {},
   "outputs": [],
   "source": [
    "SARIMA_model_new_prediction=[]\n",
    "for i in range(1,31):\n",
    "    SARIMA_model_new_prediction.append(model_sarima.predict(len(valid)+i)[-1])\n",
    "model_predictions[\"SARIMA Model Prediction\"]=SARIMA_model_new_prediction\n",
    "model_predictions.head()"
   ]
  },
  {
   "cell_type": "code",
   "execution_count": null,
   "metadata": {},
   "outputs": [],
   "source": [
    "fig=go.Figure()\n",
    "fig.add_trace(go.Scatter(x=model_train.index, y=model_train[\"cumulative_cases\"],\n",
    "                    mode='lines+markers',name=\"Train Data for Cumulative Cases\"))\n",
    "fig.add_trace(go.Scatter(x=valid.index, y=valid[\"cumulative_cases\"],\n",
    "                    mode='lines+markers',name=\"Validation Data for Cumulative Cases\",))\n",
    "fig.add_trace(go.Scatter(x=valid.index, y=y_pred[\"SARIMA Model Prediction\"],\n",
    "                    mode='lines+markers',name=\"Prediction for Cumulative Cases\",))\n",
    "fig.update_layout(title=\"Cumulative Cases SARIMA Model Prediction\",\n",
    "                 xaxis_title=\"Days since\",yaxis_title=\"Cumulative Cases\",legend=dict(x=0,y=1,traceorder=\"normal\"))\n",
    "fig.show()"
   ]
  },
  {
   "cell_type": "code",
   "execution_count": null,
   "metadata": {},
   "outputs": [],
   "source": [
    "#Summarization of Forecasts using different Models\n",
    "model_names=[\"Linear Regression\",\"Polynomial Regression\",\"Support Vector Machine Regressor\",\"Holt's Linear Regression\",\"Holt's Winter Model\",\n",
    "            \"Auto Regressive Model (AR)\",\"Moving Average Model (MA)\",\"ARIMA Model\",\"SARIMA Model\"]\n",
    "model_summary=pd.DataFrame(zip(model_names,model_scores),columns=[\"Model Name\",\"Root Mean Squared Error\"]).sort_values([\"Root Mean Squared Error\"])\n",
    "model_summary"
   ]
  },
  {
   "cell_type": "markdown",
   "metadata": {},
   "source": [
    "# Conclusion\n",
    "- After testing nine models above to predict the cumulatives cases in Canada in July, I came to the conclusion that **SARIMA Model** has the least Root Mean Squared Error, so it is the best model for us to predict the cumulatives cases in Canada in the future.\n",
    "- With regard to other countries, I will continue to test the prediction accuracy of these nine models to choose the best model to predict the future."
   ]
  },
  {
   "cell_type": "code",
   "execution_count": null,
   "metadata": {},
   "outputs": [],
   "source": [
    "model_predictions[\"SARIMA Model Prediction\"]"
   ]
  },
  {
   "cell_type": "code",
   "execution_count": null,
   "metadata": {},
   "outputs": [],
   "source": []
  }
 ],
 "metadata": {
  "kernelspec": {
   "display_name": "Python 3 (ipykernel)",
   "language": "python",
   "name": "python3"
  },
  "language_info": {
   "codemirror_mode": {
    "name": "ipython",
    "version": 3
   },
   "file_extension": ".py",
   "mimetype": "text/x-python",
   "name": "python",
   "nbconvert_exporter": "python",
   "pygments_lexer": "ipython3",
   "version": "3.10.6"
  }
 },
 "nbformat": 4,
 "nbformat_minor": 4
}
